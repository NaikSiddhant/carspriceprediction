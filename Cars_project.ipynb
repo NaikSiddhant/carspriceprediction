{
 "cells": [
  {
   "cell_type": "code",
   "execution_count": 1,
   "id": "502ab776",
   "metadata": {},
   "outputs": [],
   "source": [
    "import pandas as pd\n",
    "import numpy as np\n",
    "import matplotlib.pyplot as plt\n",
    "import seaborn as sns\n",
    "import warnings\n",
    "warnings.filterwarnings('ignore')"
   ]
  },
  {
   "cell_type": "code",
   "execution_count": 2,
   "id": "f7716274",
   "metadata": {},
   "outputs": [
    {
     "data": {
      "text/html": [
       "<div>\n",
       "<style scoped>\n",
       "    .dataframe tbody tr th:only-of-type {\n",
       "        vertical-align: middle;\n",
       "    }\n",
       "\n",
       "    .dataframe tbody tr th {\n",
       "        vertical-align: top;\n",
       "    }\n",
       "\n",
       "    .dataframe thead th {\n",
       "        text-align: right;\n",
       "    }\n",
       "</style>\n",
       "<table border=\"1\" class=\"dataframe\">\n",
       "  <thead>\n",
       "    <tr style=\"text-align: right;\">\n",
       "      <th></th>\n",
       "      <th>name</th>\n",
       "      <th>year</th>\n",
       "      <th>selling_price</th>\n",
       "      <th>km_driven</th>\n",
       "      <th>fuel</th>\n",
       "      <th>seller_type</th>\n",
       "      <th>transmission</th>\n",
       "      <th>owner</th>\n",
       "    </tr>\n",
       "  </thead>\n",
       "  <tbody>\n",
       "    <tr>\n",
       "      <th>0</th>\n",
       "      <td>Maruti 800 AC</td>\n",
       "      <td>2007</td>\n",
       "      <td>60000</td>\n",
       "      <td>70000</td>\n",
       "      <td>Petrol</td>\n",
       "      <td>Individual</td>\n",
       "      <td>Manual</td>\n",
       "      <td>First Owner</td>\n",
       "    </tr>\n",
       "    <tr>\n",
       "      <th>1</th>\n",
       "      <td>Maruti Wagon R LXI Minor</td>\n",
       "      <td>2007</td>\n",
       "      <td>135000</td>\n",
       "      <td>50000</td>\n",
       "      <td>Petrol</td>\n",
       "      <td>Individual</td>\n",
       "      <td>Manual</td>\n",
       "      <td>First Owner</td>\n",
       "    </tr>\n",
       "    <tr>\n",
       "      <th>2</th>\n",
       "      <td>Hyundai Verna 1.6 SX</td>\n",
       "      <td>2012</td>\n",
       "      <td>600000</td>\n",
       "      <td>100000</td>\n",
       "      <td>Diesel</td>\n",
       "      <td>Individual</td>\n",
       "      <td>Manual</td>\n",
       "      <td>First Owner</td>\n",
       "    </tr>\n",
       "    <tr>\n",
       "      <th>3</th>\n",
       "      <td>Datsun RediGO T Option</td>\n",
       "      <td>2017</td>\n",
       "      <td>250000</td>\n",
       "      <td>46000</td>\n",
       "      <td>Petrol</td>\n",
       "      <td>Individual</td>\n",
       "      <td>Manual</td>\n",
       "      <td>First Owner</td>\n",
       "    </tr>\n",
       "    <tr>\n",
       "      <th>4</th>\n",
       "      <td>Honda Amaze VX i-DTEC</td>\n",
       "      <td>2014</td>\n",
       "      <td>450000</td>\n",
       "      <td>141000</td>\n",
       "      <td>Diesel</td>\n",
       "      <td>Individual</td>\n",
       "      <td>Manual</td>\n",
       "      <td>Second Owner</td>\n",
       "    </tr>\n",
       "  </tbody>\n",
       "</table>\n",
       "</div>"
      ],
      "text/plain": [
       "                       name  year  selling_price  km_driven    fuel  \\\n",
       "0             Maruti 800 AC  2007          60000      70000  Petrol   \n",
       "1  Maruti Wagon R LXI Minor  2007         135000      50000  Petrol   \n",
       "2      Hyundai Verna 1.6 SX  2012         600000     100000  Diesel   \n",
       "3    Datsun RediGO T Option  2017         250000      46000  Petrol   \n",
       "4     Honda Amaze VX i-DTEC  2014         450000     141000  Diesel   \n",
       "\n",
       "  seller_type transmission         owner  \n",
       "0  Individual       Manual   First Owner  \n",
       "1  Individual       Manual   First Owner  \n",
       "2  Individual       Manual   First Owner  \n",
       "3  Individual       Manual   First Owner  \n",
       "4  Individual       Manual  Second Owner  "
      ]
     },
     "execution_count": 2,
     "metadata": {},
     "output_type": "execute_result"
    }
   ],
   "source": [
    "car_df=pd.read_csv('CAR DETAILS.csv')\n",
    "car_df.head()\n"
   ]
  },
  {
   "cell_type": "code",
   "execution_count": 3,
   "id": "e88dc804",
   "metadata": {},
   "outputs": [
    {
     "data": {
      "text/plain": [
       "(4340, 8)"
      ]
     },
     "execution_count": 3,
     "metadata": {},
     "output_type": "execute_result"
    }
   ],
   "source": [
    "car_df.shape"
   ]
  },
  {
   "cell_type": "code",
   "execution_count": 4,
   "id": "6f63393f",
   "metadata": {},
   "outputs": [
    {
     "data": {
      "text/plain": [
       "name             0\n",
       "year             0\n",
       "selling_price    0\n",
       "km_driven        0\n",
       "fuel             0\n",
       "seller_type      0\n",
       "transmission     0\n",
       "owner            0\n",
       "dtype: int64"
      ]
     },
     "execution_count": 4,
     "metadata": {},
     "output_type": "execute_result"
    }
   ],
   "source": [
    "car_df.isnull().sum()\n"
   ]
  },
  {
   "cell_type": "code",
   "execution_count": 5,
   "id": "48bdd14a",
   "metadata": {},
   "outputs": [
    {
     "data": {
      "text/plain": [
       "763"
      ]
     },
     "execution_count": 5,
     "metadata": {},
     "output_type": "execute_result"
    }
   ],
   "source": [
    "car_df.duplicated().sum()\n"
   ]
  },
  {
   "cell_type": "code",
   "execution_count": 6,
   "id": "8ac4db0b",
   "metadata": {},
   "outputs": [
    {
     "data": {
      "text/plain": [
       "(4340, 8)"
      ]
     },
     "execution_count": 6,
     "metadata": {},
     "output_type": "execute_result"
    }
   ],
   "source": [
    "car_df.shape\n"
   ]
  },
  {
   "cell_type": "code",
   "execution_count": 7,
   "id": "5c9548c3",
   "metadata": {},
   "outputs": [],
   "source": [
    "car_df.drop_duplicates(inplace= True)\n"
   ]
  },
  {
   "cell_type": "code",
   "execution_count": 8,
   "id": "922d22a2",
   "metadata": {},
   "outputs": [
    {
     "data": {
      "text/plain": [
       "(3577, 8)"
      ]
     },
     "execution_count": 8,
     "metadata": {},
     "output_type": "execute_result"
    }
   ],
   "source": [
    "car_df.shape\n"
   ]
  },
  {
   "cell_type": "code",
   "execution_count": 9,
   "id": "c56d9b7a",
   "metadata": {},
   "outputs": [
    {
     "data": {
      "text/plain": [
       "name             object\n",
       "year              int64\n",
       "selling_price     int64\n",
       "km_driven         int64\n",
       "fuel             object\n",
       "seller_type      object\n",
       "transmission     object\n",
       "owner            object\n",
       "dtype: object"
      ]
     },
     "execution_count": 9,
     "metadata": {},
     "output_type": "execute_result"
    }
   ],
   "source": [
    "car_df.dtypes\n"
   ]
  },
  {
   "cell_type": "code",
   "execution_count": 10,
   "id": "05f4c69b",
   "metadata": {},
   "outputs": [
    {
     "data": {
      "text/html": [
       "<div>\n",
       "<style scoped>\n",
       "    .dataframe tbody tr th:only-of-type {\n",
       "        vertical-align: middle;\n",
       "    }\n",
       "\n",
       "    .dataframe tbody tr th {\n",
       "        vertical-align: top;\n",
       "    }\n",
       "\n",
       "    .dataframe thead th {\n",
       "        text-align: right;\n",
       "    }\n",
       "</style>\n",
       "<table border=\"1\" class=\"dataframe\">\n",
       "  <thead>\n",
       "    <tr style=\"text-align: right;\">\n",
       "      <th></th>\n",
       "      <th>name</th>\n",
       "      <th>year</th>\n",
       "      <th>selling_price</th>\n",
       "      <th>km_driven</th>\n",
       "      <th>fuel</th>\n",
       "      <th>seller_type</th>\n",
       "      <th>transmission</th>\n",
       "      <th>owner</th>\n",
       "      <th>brand name</th>\n",
       "    </tr>\n",
       "  </thead>\n",
       "  <tbody>\n",
       "    <tr>\n",
       "      <th>0</th>\n",
       "      <td>Maruti 800 AC</td>\n",
       "      <td>2007</td>\n",
       "      <td>60000</td>\n",
       "      <td>70000</td>\n",
       "      <td>Petrol</td>\n",
       "      <td>Individual</td>\n",
       "      <td>Manual</td>\n",
       "      <td>First Owner</td>\n",
       "      <td>Maruti</td>\n",
       "    </tr>\n",
       "    <tr>\n",
       "      <th>1</th>\n",
       "      <td>Maruti Wagon R LXI Minor</td>\n",
       "      <td>2007</td>\n",
       "      <td>135000</td>\n",
       "      <td>50000</td>\n",
       "      <td>Petrol</td>\n",
       "      <td>Individual</td>\n",
       "      <td>Manual</td>\n",
       "      <td>First Owner</td>\n",
       "      <td>Maruti</td>\n",
       "    </tr>\n",
       "    <tr>\n",
       "      <th>2</th>\n",
       "      <td>Hyundai Verna 1.6 SX</td>\n",
       "      <td>2012</td>\n",
       "      <td>600000</td>\n",
       "      <td>100000</td>\n",
       "      <td>Diesel</td>\n",
       "      <td>Individual</td>\n",
       "      <td>Manual</td>\n",
       "      <td>First Owner</td>\n",
       "      <td>Hyundai</td>\n",
       "    </tr>\n",
       "    <tr>\n",
       "      <th>3</th>\n",
       "      <td>Datsun RediGO T Option</td>\n",
       "      <td>2017</td>\n",
       "      <td>250000</td>\n",
       "      <td>46000</td>\n",
       "      <td>Petrol</td>\n",
       "      <td>Individual</td>\n",
       "      <td>Manual</td>\n",
       "      <td>First Owner</td>\n",
       "      <td>Datsun</td>\n",
       "    </tr>\n",
       "    <tr>\n",
       "      <th>4</th>\n",
       "      <td>Honda Amaze VX i-DTEC</td>\n",
       "      <td>2014</td>\n",
       "      <td>450000</td>\n",
       "      <td>141000</td>\n",
       "      <td>Diesel</td>\n",
       "      <td>Individual</td>\n",
       "      <td>Manual</td>\n",
       "      <td>Second Owner</td>\n",
       "      <td>Honda</td>\n",
       "    </tr>\n",
       "    <tr>\n",
       "      <th>...</th>\n",
       "      <td>...</td>\n",
       "      <td>...</td>\n",
       "      <td>...</td>\n",
       "      <td>...</td>\n",
       "      <td>...</td>\n",
       "      <td>...</td>\n",
       "      <td>...</td>\n",
       "      <td>...</td>\n",
       "      <td>...</td>\n",
       "    </tr>\n",
       "    <tr>\n",
       "      <th>4335</th>\n",
       "      <td>Hyundai i20 Magna 1.4 CRDi (Diesel)</td>\n",
       "      <td>2014</td>\n",
       "      <td>409999</td>\n",
       "      <td>80000</td>\n",
       "      <td>Diesel</td>\n",
       "      <td>Individual</td>\n",
       "      <td>Manual</td>\n",
       "      <td>Second Owner</td>\n",
       "      <td>Hyundai</td>\n",
       "    </tr>\n",
       "    <tr>\n",
       "      <th>4336</th>\n",
       "      <td>Hyundai i20 Magna 1.4 CRDi</td>\n",
       "      <td>2014</td>\n",
       "      <td>409999</td>\n",
       "      <td>80000</td>\n",
       "      <td>Diesel</td>\n",
       "      <td>Individual</td>\n",
       "      <td>Manual</td>\n",
       "      <td>Second Owner</td>\n",
       "      <td>Hyundai</td>\n",
       "    </tr>\n",
       "    <tr>\n",
       "      <th>4337</th>\n",
       "      <td>Maruti 800 AC BSIII</td>\n",
       "      <td>2009</td>\n",
       "      <td>110000</td>\n",
       "      <td>83000</td>\n",
       "      <td>Petrol</td>\n",
       "      <td>Individual</td>\n",
       "      <td>Manual</td>\n",
       "      <td>Second Owner</td>\n",
       "      <td>Maruti</td>\n",
       "    </tr>\n",
       "    <tr>\n",
       "      <th>4338</th>\n",
       "      <td>Hyundai Creta 1.6 CRDi SX Option</td>\n",
       "      <td>2016</td>\n",
       "      <td>865000</td>\n",
       "      <td>90000</td>\n",
       "      <td>Diesel</td>\n",
       "      <td>Individual</td>\n",
       "      <td>Manual</td>\n",
       "      <td>First Owner</td>\n",
       "      <td>Hyundai</td>\n",
       "    </tr>\n",
       "    <tr>\n",
       "      <th>4339</th>\n",
       "      <td>Renault KWID RXT</td>\n",
       "      <td>2016</td>\n",
       "      <td>225000</td>\n",
       "      <td>40000</td>\n",
       "      <td>Petrol</td>\n",
       "      <td>Individual</td>\n",
       "      <td>Manual</td>\n",
       "      <td>First Owner</td>\n",
       "      <td>Renault</td>\n",
       "    </tr>\n",
       "  </tbody>\n",
       "</table>\n",
       "<p>3577 rows × 9 columns</p>\n",
       "</div>"
      ],
      "text/plain": [
       "                                     name  year  selling_price  km_driven  \\\n",
       "0                           Maruti 800 AC  2007          60000      70000   \n",
       "1                Maruti Wagon R LXI Minor  2007         135000      50000   \n",
       "2                    Hyundai Verna 1.6 SX  2012         600000     100000   \n",
       "3                  Datsun RediGO T Option  2017         250000      46000   \n",
       "4                   Honda Amaze VX i-DTEC  2014         450000     141000   \n",
       "...                                   ...   ...            ...        ...   \n",
       "4335  Hyundai i20 Magna 1.4 CRDi (Diesel)  2014         409999      80000   \n",
       "4336           Hyundai i20 Magna 1.4 CRDi  2014         409999      80000   \n",
       "4337                  Maruti 800 AC BSIII  2009         110000      83000   \n",
       "4338     Hyundai Creta 1.6 CRDi SX Option  2016         865000      90000   \n",
       "4339                     Renault KWID RXT  2016         225000      40000   \n",
       "\n",
       "        fuel seller_type transmission         owner brand name  \n",
       "0     Petrol  Individual       Manual   First Owner     Maruti  \n",
       "1     Petrol  Individual       Manual   First Owner     Maruti  \n",
       "2     Diesel  Individual       Manual   First Owner    Hyundai  \n",
       "3     Petrol  Individual       Manual   First Owner     Datsun  \n",
       "4     Diesel  Individual       Manual  Second Owner      Honda  \n",
       "...      ...         ...          ...           ...        ...  \n",
       "4335  Diesel  Individual       Manual  Second Owner    Hyundai  \n",
       "4336  Diesel  Individual       Manual  Second Owner    Hyundai  \n",
       "4337  Petrol  Individual       Manual  Second Owner     Maruti  \n",
       "4338  Diesel  Individual       Manual   First Owner    Hyundai  \n",
       "4339  Petrol  Individual       Manual   First Owner    Renault  \n",
       "\n",
       "[3577 rows x 9 columns]"
      ]
     },
     "execution_count": 10,
     "metadata": {},
     "output_type": "execute_result"
    }
   ],
   "source": [
    "## create new column of car brand name \n",
    "\n",
    "car_df['brand name']=car_df['name'].str.split(' ').str.slice(0,1).str.join('')\n",
    "car_df\n"
   ]
  },
  {
   "cell_type": "code",
   "execution_count": 11,
   "id": "65287fe5",
   "metadata": {},
   "outputs": [],
   "source": [
    "## change the name of column \n",
    "\n",
    "\n",
    "car_df['name']=car_df['name'].str.split(' ').str.slice(0,3).str.join(' ')\n",
    "car_df.rename(columns={'name':'Model name'},inplace=True)\n",
    "car_df.drop('Model name',axis=1,inplace=True)\n"
   ]
  },
  {
   "cell_type": "code",
   "execution_count": 12,
   "id": "bd43834a",
   "metadata": {},
   "outputs": [
    {
     "data": {
      "text/html": [
       "<div>\n",
       "<style scoped>\n",
       "    .dataframe tbody tr th:only-of-type {\n",
       "        vertical-align: middle;\n",
       "    }\n",
       "\n",
       "    .dataframe tbody tr th {\n",
       "        vertical-align: top;\n",
       "    }\n",
       "\n",
       "    .dataframe thead th {\n",
       "        text-align: right;\n",
       "    }\n",
       "</style>\n",
       "<table border=\"1\" class=\"dataframe\">\n",
       "  <thead>\n",
       "    <tr style=\"text-align: right;\">\n",
       "      <th></th>\n",
       "      <th>brand name</th>\n",
       "      <th>year</th>\n",
       "      <th>selling_price</th>\n",
       "      <th>km_driven</th>\n",
       "      <th>fuel</th>\n",
       "      <th>seller_type</th>\n",
       "      <th>transmission</th>\n",
       "      <th>owner</th>\n",
       "    </tr>\n",
       "  </thead>\n",
       "  <tbody>\n",
       "    <tr>\n",
       "      <th>0</th>\n",
       "      <td>Maruti</td>\n",
       "      <td>2007</td>\n",
       "      <td>60000</td>\n",
       "      <td>70000</td>\n",
       "      <td>Petrol</td>\n",
       "      <td>Individual</td>\n",
       "      <td>Manual</td>\n",
       "      <td>First Owner</td>\n",
       "    </tr>\n",
       "    <tr>\n",
       "      <th>1</th>\n",
       "      <td>Maruti</td>\n",
       "      <td>2007</td>\n",
       "      <td>135000</td>\n",
       "      <td>50000</td>\n",
       "      <td>Petrol</td>\n",
       "      <td>Individual</td>\n",
       "      <td>Manual</td>\n",
       "      <td>First Owner</td>\n",
       "    </tr>\n",
       "    <tr>\n",
       "      <th>2</th>\n",
       "      <td>Hyundai</td>\n",
       "      <td>2012</td>\n",
       "      <td>600000</td>\n",
       "      <td>100000</td>\n",
       "      <td>Diesel</td>\n",
       "      <td>Individual</td>\n",
       "      <td>Manual</td>\n",
       "      <td>First Owner</td>\n",
       "    </tr>\n",
       "    <tr>\n",
       "      <th>3</th>\n",
       "      <td>Datsun</td>\n",
       "      <td>2017</td>\n",
       "      <td>250000</td>\n",
       "      <td>46000</td>\n",
       "      <td>Petrol</td>\n",
       "      <td>Individual</td>\n",
       "      <td>Manual</td>\n",
       "      <td>First Owner</td>\n",
       "    </tr>\n",
       "    <tr>\n",
       "      <th>4</th>\n",
       "      <td>Honda</td>\n",
       "      <td>2014</td>\n",
       "      <td>450000</td>\n",
       "      <td>141000</td>\n",
       "      <td>Diesel</td>\n",
       "      <td>Individual</td>\n",
       "      <td>Manual</td>\n",
       "      <td>Second Owner</td>\n",
       "    </tr>\n",
       "    <tr>\n",
       "      <th>...</th>\n",
       "      <td>...</td>\n",
       "      <td>...</td>\n",
       "      <td>...</td>\n",
       "      <td>...</td>\n",
       "      <td>...</td>\n",
       "      <td>...</td>\n",
       "      <td>...</td>\n",
       "      <td>...</td>\n",
       "    </tr>\n",
       "    <tr>\n",
       "      <th>4335</th>\n",
       "      <td>Hyundai</td>\n",
       "      <td>2014</td>\n",
       "      <td>409999</td>\n",
       "      <td>80000</td>\n",
       "      <td>Diesel</td>\n",
       "      <td>Individual</td>\n",
       "      <td>Manual</td>\n",
       "      <td>Second Owner</td>\n",
       "    </tr>\n",
       "    <tr>\n",
       "      <th>4336</th>\n",
       "      <td>Hyundai</td>\n",
       "      <td>2014</td>\n",
       "      <td>409999</td>\n",
       "      <td>80000</td>\n",
       "      <td>Diesel</td>\n",
       "      <td>Individual</td>\n",
       "      <td>Manual</td>\n",
       "      <td>Second Owner</td>\n",
       "    </tr>\n",
       "    <tr>\n",
       "      <th>4337</th>\n",
       "      <td>Maruti</td>\n",
       "      <td>2009</td>\n",
       "      <td>110000</td>\n",
       "      <td>83000</td>\n",
       "      <td>Petrol</td>\n",
       "      <td>Individual</td>\n",
       "      <td>Manual</td>\n",
       "      <td>Second Owner</td>\n",
       "    </tr>\n",
       "    <tr>\n",
       "      <th>4338</th>\n",
       "      <td>Hyundai</td>\n",
       "      <td>2016</td>\n",
       "      <td>865000</td>\n",
       "      <td>90000</td>\n",
       "      <td>Diesel</td>\n",
       "      <td>Individual</td>\n",
       "      <td>Manual</td>\n",
       "      <td>First Owner</td>\n",
       "    </tr>\n",
       "    <tr>\n",
       "      <th>4339</th>\n",
       "      <td>Renault</td>\n",
       "      <td>2016</td>\n",
       "      <td>225000</td>\n",
       "      <td>40000</td>\n",
       "      <td>Petrol</td>\n",
       "      <td>Individual</td>\n",
       "      <td>Manual</td>\n",
       "      <td>First Owner</td>\n",
       "    </tr>\n",
       "  </tbody>\n",
       "</table>\n",
       "<p>3577 rows × 8 columns</p>\n",
       "</div>"
      ],
      "text/plain": [
       "     brand name  year  selling_price  km_driven    fuel seller_type  \\\n",
       "0        Maruti  2007          60000      70000  Petrol  Individual   \n",
       "1        Maruti  2007         135000      50000  Petrol  Individual   \n",
       "2       Hyundai  2012         600000     100000  Diesel  Individual   \n",
       "3        Datsun  2017         250000      46000  Petrol  Individual   \n",
       "4         Honda  2014         450000     141000  Diesel  Individual   \n",
       "...         ...   ...            ...        ...     ...         ...   \n",
       "4335    Hyundai  2014         409999      80000  Diesel  Individual   \n",
       "4336    Hyundai  2014         409999      80000  Diesel  Individual   \n",
       "4337     Maruti  2009         110000      83000  Petrol  Individual   \n",
       "4338    Hyundai  2016         865000      90000  Diesel  Individual   \n",
       "4339    Renault  2016         225000      40000  Petrol  Individual   \n",
       "\n",
       "     transmission         owner  \n",
       "0          Manual   First Owner  \n",
       "1          Manual   First Owner  \n",
       "2          Manual   First Owner  \n",
       "3          Manual   First Owner  \n",
       "4          Manual  Second Owner  \n",
       "...           ...           ...  \n",
       "4335       Manual  Second Owner  \n",
       "4336       Manual  Second Owner  \n",
       "4337       Manual  Second Owner  \n",
       "4338       Manual   First Owner  \n",
       "4339       Manual   First Owner  \n",
       "\n",
       "[3577 rows x 8 columns]"
      ]
     },
     "execution_count": 12,
     "metadata": {},
     "output_type": "execute_result"
    }
   ],
   "source": [
    "## Modify the sequce of columns \n",
    "car_df=car_df.iloc[:,[7,0,1,2,3,4,5,6]]\n",
    "car_df\n"
   ]
  },
  {
   "cell_type": "code",
   "execution_count": 13,
   "id": "5b648134",
   "metadata": {},
   "outputs": [
    {
     "data": {
      "text/plain": [
       "Index(['brand name', 'year', 'selling_price', 'km_driven', 'fuel',\n",
       "       'seller_type', 'transmission', 'owner'],\n",
       "      dtype='object')"
      ]
     },
     "execution_count": 13,
     "metadata": {},
     "output_type": "execute_result"
    }
   ],
   "source": [
    "car_df.columns\n"
   ]
  },
  {
   "cell_type": "code",
   "execution_count": 14,
   "id": "27c4f579",
   "metadata": {},
   "outputs": [
    {
     "name": "stdout",
     "output_type": "stream",
     "text": [
      "Index(['brand name', 'fuel', 'seller_type', 'transmission', 'owner'], dtype='object')\n",
      "Index(['year', 'selling_price', 'km_driven'], dtype='object')\n"
     ]
    }
   ],
   "source": [
    "cat_cols=car_df.dtypes[car_df.dtypes=='object'].index\n",
    "num_cols=car_df.dtypes[car_df.dtypes!='object'].index\n",
    "print(cat_cols)\n",
    "print(num_cols)"
   ]
  },
  {
   "cell_type": "markdown",
   "id": "26e5028b",
   "metadata": {},
   "source": [
    "## EDA"
   ]
  },
  {
   "cell_type": "code",
   "execution_count": 15,
   "id": "9eeefb2d",
   "metadata": {},
   "outputs": [
    {
     "data": {
      "text/html": [
       "<div>\n",
       "<style scoped>\n",
       "    .dataframe tbody tr th:only-of-type {\n",
       "        vertical-align: middle;\n",
       "    }\n",
       "\n",
       "    .dataframe tbody tr th {\n",
       "        vertical-align: top;\n",
       "    }\n",
       "\n",
       "    .dataframe thead th {\n",
       "        text-align: right;\n",
       "    }\n",
       "</style>\n",
       "<table border=\"1\" class=\"dataframe\">\n",
       "  <thead>\n",
       "    <tr style=\"text-align: right;\">\n",
       "      <th></th>\n",
       "      <th>year</th>\n",
       "      <th>selling_price</th>\n",
       "      <th>km_driven</th>\n",
       "    </tr>\n",
       "  </thead>\n",
       "  <tbody>\n",
       "    <tr>\n",
       "      <th>count</th>\n",
       "      <td>3577.000000</td>\n",
       "      <td>3.577000e+03</td>\n",
       "      <td>3577.000000</td>\n",
       "    </tr>\n",
       "    <tr>\n",
       "      <th>mean</th>\n",
       "      <td>2012.962538</td>\n",
       "      <td>4.739125e+05</td>\n",
       "      <td>69250.545709</td>\n",
       "    </tr>\n",
       "    <tr>\n",
       "      <th>std</th>\n",
       "      <td>4.251759</td>\n",
       "      <td>5.093018e+05</td>\n",
       "      <td>47579.940016</td>\n",
       "    </tr>\n",
       "    <tr>\n",
       "      <th>min</th>\n",
       "      <td>1992.000000</td>\n",
       "      <td>2.000000e+04</td>\n",
       "      <td>1.000000</td>\n",
       "    </tr>\n",
       "    <tr>\n",
       "      <th>25%</th>\n",
       "      <td>2010.000000</td>\n",
       "      <td>2.000000e+05</td>\n",
       "      <td>36000.000000</td>\n",
       "    </tr>\n",
       "    <tr>\n",
       "      <th>50%</th>\n",
       "      <td>2013.000000</td>\n",
       "      <td>3.500000e+05</td>\n",
       "      <td>60000.000000</td>\n",
       "    </tr>\n",
       "    <tr>\n",
       "      <th>75%</th>\n",
       "      <td>2016.000000</td>\n",
       "      <td>6.000000e+05</td>\n",
       "      <td>90000.000000</td>\n",
       "    </tr>\n",
       "    <tr>\n",
       "      <th>max</th>\n",
       "      <td>2020.000000</td>\n",
       "      <td>8.900000e+06</td>\n",
       "      <td>806599.000000</td>\n",
       "    </tr>\n",
       "  </tbody>\n",
       "</table>\n",
       "</div>"
      ],
      "text/plain": [
       "              year  selling_price      km_driven\n",
       "count  3577.000000   3.577000e+03    3577.000000\n",
       "mean   2012.962538   4.739125e+05   69250.545709\n",
       "std       4.251759   5.093018e+05   47579.940016\n",
       "min    1992.000000   2.000000e+04       1.000000\n",
       "25%    2010.000000   2.000000e+05   36000.000000\n",
       "50%    2013.000000   3.500000e+05   60000.000000\n",
       "75%    2016.000000   6.000000e+05   90000.000000\n",
       "max    2020.000000   8.900000e+06  806599.000000"
      ]
     },
     "execution_count": 15,
     "metadata": {},
     "output_type": "execute_result"
    }
   ],
   "source": [
    "car_df.describe()\n"
   ]
  },
  {
   "cell_type": "code",
   "execution_count": 16,
   "id": "48622bd4",
   "metadata": {},
   "outputs": [
    {
     "data": {
      "text/html": [
       "<div>\n",
       "<style scoped>\n",
       "    .dataframe tbody tr th:only-of-type {\n",
       "        vertical-align: middle;\n",
       "    }\n",
       "\n",
       "    .dataframe tbody tr th {\n",
       "        vertical-align: top;\n",
       "    }\n",
       "\n",
       "    .dataframe thead th {\n",
       "        text-align: right;\n",
       "    }\n",
       "</style>\n",
       "<table border=\"1\" class=\"dataframe\">\n",
       "  <thead>\n",
       "    <tr style=\"text-align: right;\">\n",
       "      <th></th>\n",
       "      <th>brand name</th>\n",
       "      <th>year</th>\n",
       "      <th>selling_price</th>\n",
       "      <th>km_driven</th>\n",
       "      <th>fuel</th>\n",
       "      <th>seller_type</th>\n",
       "      <th>transmission</th>\n",
       "      <th>owner</th>\n",
       "    </tr>\n",
       "  </thead>\n",
       "  <tbody>\n",
       "    <tr>\n",
       "      <th>69</th>\n",
       "      <td>Chevrolet</td>\n",
       "      <td>2010</td>\n",
       "      <td>280000</td>\n",
       "      <td>350000</td>\n",
       "      <td>Diesel</td>\n",
       "      <td>Individual</td>\n",
       "      <td>Manual</td>\n",
       "      <td>Second Owner</td>\n",
       "    </tr>\n",
       "    <tr>\n",
       "      <th>525</th>\n",
       "      <td>Maruti</td>\n",
       "      <td>2016</td>\n",
       "      <td>665000</td>\n",
       "      <td>560000</td>\n",
       "      <td>Diesel</td>\n",
       "      <td>Dealer</td>\n",
       "      <td>Manual</td>\n",
       "      <td>First Owner</td>\n",
       "    </tr>\n",
       "    <tr>\n",
       "      <th>1243</th>\n",
       "      <td>Maruti</td>\n",
       "      <td>2009</td>\n",
       "      <td>250000</td>\n",
       "      <td>806599</td>\n",
       "      <td>Petrol</td>\n",
       "      <td>Dealer</td>\n",
       "      <td>Manual</td>\n",
       "      <td>First Owner</td>\n",
       "    </tr>\n",
       "    <tr>\n",
       "      <th>1674</th>\n",
       "      <td>Volkswagen</td>\n",
       "      <td>2011</td>\n",
       "      <td>350000</td>\n",
       "      <td>312000</td>\n",
       "      <td>Diesel</td>\n",
       "      <td>Individual</td>\n",
       "      <td>Manual</td>\n",
       "      <td>Third Owner</td>\n",
       "    </tr>\n",
       "    <tr>\n",
       "      <th>2394</th>\n",
       "      <td>Toyota</td>\n",
       "      <td>2009</td>\n",
       "      <td>350000</td>\n",
       "      <td>350000</td>\n",
       "      <td>Diesel</td>\n",
       "      <td>Individual</td>\n",
       "      <td>Manual</td>\n",
       "      <td>First Owner</td>\n",
       "    </tr>\n",
       "    <tr>\n",
       "      <th>3679</th>\n",
       "      <td>Toyota</td>\n",
       "      <td>2006</td>\n",
       "      <td>400000</td>\n",
       "      <td>400000</td>\n",
       "      <td>Diesel</td>\n",
       "      <td>Individual</td>\n",
       "      <td>Manual</td>\n",
       "      <td>Third Owner</td>\n",
       "    </tr>\n",
       "    <tr>\n",
       "      <th>3718</th>\n",
       "      <td>Toyota</td>\n",
       "      <td>2009</td>\n",
       "      <td>420000</td>\n",
       "      <td>347089</td>\n",
       "      <td>Diesel</td>\n",
       "      <td>Dealer</td>\n",
       "      <td>Manual</td>\n",
       "      <td>First Owner</td>\n",
       "    </tr>\n",
       "  </tbody>\n",
       "</table>\n",
       "</div>"
      ],
      "text/plain": [
       "      brand name  year  selling_price  km_driven    fuel seller_type  \\\n",
       "69     Chevrolet  2010         280000     350000  Diesel  Individual   \n",
       "525       Maruti  2016         665000     560000  Diesel      Dealer   \n",
       "1243      Maruti  2009         250000     806599  Petrol      Dealer   \n",
       "1674  Volkswagen  2011         350000     312000  Diesel  Individual   \n",
       "2394      Toyota  2009         350000     350000  Diesel  Individual   \n",
       "3679      Toyota  2006         400000     400000  Diesel  Individual   \n",
       "3718      Toyota  2009         420000     347089  Diesel      Dealer   \n",
       "\n",
       "     transmission         owner  \n",
       "69         Manual  Second Owner  \n",
       "525        Manual   First Owner  \n",
       "1243       Manual   First Owner  \n",
       "1674       Manual   Third Owner  \n",
       "2394       Manual   First Owner  \n",
       "3679       Manual   Third Owner  \n",
       "3718       Manual   First Owner  "
      ]
     },
     "execution_count": 16,
     "metadata": {},
     "output_type": "execute_result"
    }
   ],
   "source": [
    "car_df[car_df['km_driven']>300000]\n"
   ]
  },
  {
   "cell_type": "code",
   "execution_count": 17,
   "id": "12bab97c",
   "metadata": {},
   "outputs": [
    {
     "data": {
      "image/png": "[encoded data removed]",
      "text/plain": [
       "<Figure size 432x288 with 1 Axes>"
      ]
     },
     "metadata": {
      "needs_background": "light"
     },
     "output_type": "display_data"
    }
   ],
   "source": [
    "## Count of car based on fuel types \n",
    "\n",
    "import seaborn as sns \n",
    "\n",
    "sns.countplot(y=car_df['fuel'],order=car_df['fuel'].value_counts().sort_values(ascending=False).index)\n",
    "plt.show()\n"
   ]
  },
  {
   "cell_type": "code",
   "execution_count": 18,
   "id": "b2e479c2",
   "metadata": {},
   "outputs": [
    {
     "data": {
      "image/png": "[encoded data removed]",
      "text/plain": [
       "<Figure size 576x360 with 1 Axes>"
      ]
     },
     "metadata": {
      "needs_background": "light"
     },
     "output_type": "display_data"
    }
   ],
   "source": [
    "plt.figure(figsize=(8,5))\n",
    "sns.barplot(x=car_df['transmission'].value_counts().index,y=car_df['transmission'].value_counts().values)\n",
    "plt.title('Count of the Transmission value')\n",
    "plt.show()\n"
   ]
  },
  {
   "cell_type": "code",
   "execution_count": 19,
   "id": "2fe973b2",
   "metadata": {},
   "outputs": [
    {
     "data": {
      "image/png": "[encoded data removed]",
      "text/plain": [
       "<Figure size 1008x288 with 1 Axes>"
      ]
     },
     "metadata": {
      "needs_background": "light"
     },
     "output_type": "display_data"
    }
   ],
   "source": [
    "plt.figure(figsize=(14,4))\n",
    "sns.barplot(data=car_df,x='year',y='selling_price')\n",
    "plt.show()\n"
   ]
  },
  {
   "cell_type": "code",
   "execution_count": 20,
   "id": "7654e865",
   "metadata": {},
   "outputs": [
    {
     "data": {
      "image/png": "[encoded data removed]",
      "text/plain": [
       "<Figure size 360x360 with 1 Axes>"
      ]
     },
     "metadata": {
      "needs_background": "light"
     },
     "output_type": "display_data"
    }
   ],
   "source": [
    "sns.displot(data=car_df,x='km_driven')\n",
    "plt.xticks(rotation=20)\n",
    "plt.show()\n"
   ]
  },
  {
   "cell_type": "code",
   "execution_count": 21,
   "id": "804194e0",
   "metadata": {},
   "outputs": [
    {
     "data": {
      "image/png": "[encoded data removed]",
      "text/plain": [
       "<Figure size 432x288 with 1 Axes>"
      ]
     },
     "metadata": {
      "needs_background": "light"
     },
     "output_type": "display_data"
    },
    {
     "data": {
      "image/png": "[encoded data removed]",
      "text/plain": [
       "<Figure size 432x288 with 1 Axes>"
      ]
     },
     "metadata": {
      "needs_background": "light"
     },
     "output_type": "display_data"
    },
    {
     "data": {
      "image/png": "[encoded data removed]",
      "text/plain": [
       "<Figure size 432x288 with 1 Axes>"
      ]
     },
     "metadata": {
      "needs_background": "light"
     },
     "output_type": "display_data"
    }
   ],
   "source": [
    "##Boxplot for numerical cols\n",
    "\n",
    "for i in num_cols:\n",
    "    sns.boxplot(x=car_df[i])\n",
    "    plt.title(f'Boxplot of {i}')\n",
    "    plt.show()\n",
    "    \n"
   ]
  },
  {
   "cell_type": "code",
   "execution_count": 22,
   "id": "9191cc30",
   "metadata": {},
   "outputs": [
    {
     "data": {
      "text/plain": [
       "(3341, 8)"
      ]
     },
     "execution_count": 22,
     "metadata": {},
     "output_type": "execute_result"
    }
   ],
   "source": [
    "## Handling the outliers for selling price \n",
    "car_df=car_df[car_df['selling_price']<1.04e6].reset_index(drop=True)\n",
    "car_df.shape"
   ]
  },
  {
   "cell_type": "code",
   "execution_count": 23,
   "id": "3d2f669d",
   "metadata": {},
   "outputs": [
    {
     "data": {
      "text/plain": [
       "(3338, 8)"
      ]
     },
     "execution_count": 23,
     "metadata": {},
     "output_type": "execute_result"
    }
   ],
   "source": [
    "car_df=car_df[car_df['km_driven']<400000].reset_index(drop=True)\n",
    "car_df.shape"
   ]
  },
  {
   "cell_type": "code",
   "execution_count": 24,
   "id": "3cafc40f",
   "metadata": {},
   "outputs": [
    {
     "data": {
      "text/plain": [
       "(3322, 8)"
      ]
     },
     "execution_count": 24,
     "metadata": {},
     "output_type": "execute_result"
    }
   ],
   "source": [
    "car_df=car_df[car_df['year']>1998].reset_index(drop=True)\n",
    "car_df.shape"
   ]
  },
  {
   "cell_type": "code",
   "execution_count": 25,
   "id": "eb9552e8",
   "metadata": {},
   "outputs": [
    {
     "data": {
      "image/png": "[encoded data removed]",
      "text/plain": [
       "<Figure size 432x288 with 1 Axes>"
      ]
     },
     "metadata": {
      "needs_background": "light"
     },
     "output_type": "display_data"
    },
    {
     "data": {
      "image/png": "[encoded data removed]",
      "text/plain": [
       "<Figure size 432x288 with 1 Axes>"
      ]
     },
     "metadata": {
      "needs_background": "light"
     },
     "output_type": "display_data"
    },
    {
     "data": {
      "image/png": "[encoded data removed]",
      "text/plain": [
       "<Figure size 432x288 with 1 Axes>"
      ]
     },
     "metadata": {
      "needs_background": "light"
     },
     "output_type": "display_data"
    }
   ],
   "source": [
    "##Boxplot for numerical cols\n",
    "\n",
    "for i in num_cols:\n",
    "    sns.boxplot(x=car_df[i])\n",
    "    plt.title(f'Boxplot of {i}')\n",
    "    plt.show()\n",
    " "
   ]
  },
  {
   "cell_type": "code",
   "execution_count": 26,
   "id": "cba54365",
   "metadata": {},
   "outputs": [
    {
     "data": {
      "text/html": [
       "<div>\n",
       "<style scoped>\n",
       "    .dataframe tbody tr th:only-of-type {\n",
       "        vertical-align: middle;\n",
       "    }\n",
       "\n",
       "    .dataframe tbody tr th {\n",
       "        vertical-align: top;\n",
       "    }\n",
       "\n",
       "    .dataframe thead th {\n",
       "        text-align: right;\n",
       "    }\n",
       "</style>\n",
       "<table border=\"1\" class=\"dataframe\">\n",
       "  <thead>\n",
       "    <tr style=\"text-align: right;\">\n",
       "      <th></th>\n",
       "      <th>year</th>\n",
       "      <th>selling_price</th>\n",
       "      <th>km_driven</th>\n",
       "    </tr>\n",
       "  </thead>\n",
       "  <tbody>\n",
       "    <tr>\n",
       "      <th>count</th>\n",
       "      <td>3322.000000</td>\n",
       "      <td>3.322000e+03</td>\n",
       "      <td>3322.000000</td>\n",
       "    </tr>\n",
       "    <tr>\n",
       "      <th>mean</th>\n",
       "      <td>2012.807947</td>\n",
       "      <td>3.783706e+05</td>\n",
       "      <td>70284.270319</td>\n",
       "    </tr>\n",
       "    <tr>\n",
       "      <th>std</th>\n",
       "      <td>4.110835</td>\n",
       "      <td>2.329119e+05</td>\n",
       "      <td>44975.235805</td>\n",
       "    </tr>\n",
       "    <tr>\n",
       "      <th>min</th>\n",
       "      <td>1999.000000</td>\n",
       "      <td>2.000000e+04</td>\n",
       "      <td>1.000000</td>\n",
       "    </tr>\n",
       "    <tr>\n",
       "      <th>25%</th>\n",
       "      <td>2010.000000</td>\n",
       "      <td>1.950000e+05</td>\n",
       "      <td>40000.000000</td>\n",
       "    </tr>\n",
       "    <tr>\n",
       "      <th>50%</th>\n",
       "      <td>2013.000000</td>\n",
       "      <td>3.250000e+05</td>\n",
       "      <td>64606.500000</td>\n",
       "    </tr>\n",
       "    <tr>\n",
       "      <th>75%</th>\n",
       "      <td>2016.000000</td>\n",
       "      <td>5.300000e+05</td>\n",
       "      <td>90000.000000</td>\n",
       "    </tr>\n",
       "    <tr>\n",
       "      <th>max</th>\n",
       "      <td>2020.000000</td>\n",
       "      <td>1.035000e+06</td>\n",
       "      <td>350000.000000</td>\n",
       "    </tr>\n",
       "  </tbody>\n",
       "</table>\n",
       "</div>"
      ],
      "text/plain": [
       "              year  selling_price      km_driven\n",
       "count  3322.000000   3.322000e+03    3322.000000\n",
       "mean   2012.807947   3.783706e+05   70284.270319\n",
       "std       4.110835   2.329119e+05   44975.235805\n",
       "min    1999.000000   2.000000e+04       1.000000\n",
       "25%    2010.000000   1.950000e+05   40000.000000\n",
       "50%    2013.000000   3.250000e+05   64606.500000\n",
       "75%    2016.000000   5.300000e+05   90000.000000\n",
       "max    2020.000000   1.035000e+06  350000.000000"
      ]
     },
     "execution_count": 26,
     "metadata": {},
     "output_type": "execute_result"
    }
   ],
   "source": [
    "car_df.describe()\n"
   ]
  },
  {
   "cell_type": "markdown",
   "id": "d94bf026",
   "metadata": {},
   "source": [
    "## Selecting Dependent and independent Features\n"
   ]
  },
  {
   "cell_type": "code",
   "execution_count": 27,
   "id": "48ea4fe4",
   "metadata": {},
   "outputs": [
    {
     "name": "stdout",
     "output_type": "stream",
     "text": [
      "<class 'pandas.core.frame.DataFrame'>\n",
      "<class 'pandas.core.series.Series'>\n",
      "(3322, 7)\n",
      "(3322,)\n"
     ]
    }
   ],
   "source": [
    "x=car_df.drop(['selling_price'],axis=1)\n",
    "y=car_df['selling_price']\n",
    "print(type(x))\n",
    "print(type(y))\n",
    "print(x.shape)\n",
    "print(y.shape)"
   ]
  },
  {
   "cell_type": "code",
   "execution_count": 28,
   "id": "666e746c",
   "metadata": {},
   "outputs": [],
   "source": [
    "from sklearn.model_selection import train_test_split\n"
   ]
  },
  {
   "cell_type": "code",
   "execution_count": 29,
   "id": "4998cca8",
   "metadata": {},
   "outputs": [
    {
     "name": "stdout",
     "output_type": "stream",
     "text": [
      "(2491, 7)\n",
      "(831, 7)\n",
      "(2491,)\n",
      "(831,)\n"
     ]
    }
   ],
   "source": [
    "x_train,x_test,y_train,y_test=train_test_split(x,y,test_size=0.25,random_state=20)\n",
    "print(x_train.shape)\n",
    "print(x_test.shape)\n",
    "print(y_train.shape)\n",
    "print(y_test.shape)"
   ]
  },
  {
   "cell_type": "markdown",
   "id": "9bb71b9d",
   "metadata": {},
   "source": [
    "## Evaluate problem of regression model\n"
   ]
  },
  {
   "cell_type": "code",
   "execution_count": 30,
   "id": "a8b1fd68",
   "metadata": {},
   "outputs": [],
   "source": [
    "from sklearn.metrics import mean_squared_error,mean_absolute_error,r2_score\n"
   ]
  },
  {
   "cell_type": "code",
   "execution_count": 31,
   "id": "0b259365",
   "metadata": {},
   "outputs": [],
   "source": [
    "def eval_model(ytest,ypred):\n",
    "    mae=mean_absolute_error(ytest,ypred)\n",
    "    mse=mean_squared_error(ytest,ypred)\n",
    "    rmse=np.sqrt(mse)\n",
    "    r2s=r2_score(ytest,ypred)\n",
    "    print('MAE',mae)\n",
    "    print('MSE',mse)\n",
    "    print('RMSE',rmse)\n",
    "    print('R2_SCORE',r2s)\n",
    "    \n",
    "def mscore(model):\n",
    "    print('Training Score',model.score(x_train,y_train)) # Trainng R2 score\n",
    "    print('Testing Score',model.score(x_test,y_test))    # Test R2 Score"
   ]
  },
  {
   "cell_type": "code",
   "execution_count": 32,
   "id": "69884004",
   "metadata": {},
   "outputs": [],
   "source": [
    "from sklearn.linear_model import LinearRegression,Ridge,Lasso\n",
    "from sklearn.neighbors import KNeighborsRegressor\n",
    "from sklearn.tree import DecisionTreeRegressor\n",
    "from sklearn.ensemble import RandomForestRegressor"
   ]
  },
  {
   "cell_type": "code",
   "execution_count": 33,
   "id": "3ca34b7f",
   "metadata": {},
   "outputs": [],
   "source": [
    "from sklearn.preprocessing import OneHotEncoder\n",
    "from sklearn.compose import ColumnTransformer\n",
    "from sklearn.pipeline import Pipeline\n"
   ]
  },
  {
   "cell_type": "code",
   "execution_count": 34,
   "id": "2f4255ee",
   "metadata": {},
   "outputs": [
    {
     "name": "stdout",
     "output_type": "stream",
     "text": [
      "Index(['brand name', 'year', 'selling_price', 'km_driven', 'fuel',\n",
      "       'seller_type', 'transmission', 'owner'],\n",
      "      dtype='object')\n",
      "Index(['brand name', 'fuel', 'seller_type', 'transmission', 'owner'], dtype='object')\n",
      "Index(['brand name', 'year', 'km_driven', 'fuel', 'seller_type',\n",
      "       'transmission', 'owner'],\n",
      "      dtype='object')\n"
     ]
    }
   ],
   "source": [
    "print(car_df.columns)\n",
    "print(cat_cols)   ##[0,3,4,5,6] \n",
    "print(x_train.columns)"
   ]
  },
  {
   "cell_type": "markdown",
   "id": "16a9f58b",
   "metadata": {},
   "source": [
    "## 1) Linear Regression\n"
   ]
  },
  {
   "cell_type": "code",
   "execution_count": 35,
   "id": "e6208417",
   "metadata": {},
   "outputs": [
    {
     "name": "stdout",
     "output_type": "stream",
     "text": [
      "MAE 105102.32264600892\n",
      "MSE 18632532321.10004\n",
      "RMSE 136501.03413930623\n",
      "R2_SCORE 0.6663074129920203\n"
     ]
    }
   ],
   "source": [
    "s1=ColumnTransformer(transformers=[('encoder',OneHotEncoder(drop='first',sparse=False,handle_unknown='ignore'),[0,3,4,5,6])],\n",
    "                    remainder='passthrough')\n",
    "\n",
    "s2=LinearRegression()\n",
    "\n",
    "pipe_lr=Pipeline([('s1',s1),('s2',s2)])\n",
    "\n",
    "pipe_lr.fit(x_train,y_train)\n",
    "ypred_lr=pipe_lr.predict(x_test)\n",
    "eval_model(y_test,ypred_lr)"
   ]
  },
  {
   "cell_type": "markdown",
   "id": "e551d834",
   "metadata": {},
   "source": [
    "## 2)Ridge Regression\n"
   ]
  },
  {
   "cell_type": "code",
   "execution_count": 36,
   "id": "fda9e415",
   "metadata": {},
   "outputs": [
    {
     "name": "stdout",
     "output_type": "stream",
     "text": [
      "MAE 106184.4105731353\n",
      "MSE 19166842454.84922\n",
      "RMSE 138444.36591948848\n",
      "R2_SCORE 0.6567383792330698\n"
     ]
    }
   ],
   "source": [
    "s1=ColumnTransformer(transformers=[('encoder',OneHotEncoder(drop='first',sparse=False,handle_unknown='ignore'),[0,3,4,5,6])],\n",
    "                    remainder='passthrough')\n",
    "\n",
    "s2=Ridge(alpha=4)\n",
    "\n",
    "pipe_ridge=Pipeline([('s1',s1),('s2',s2)])\n",
    "\n",
    "pipe_ridge.fit(x_train,y_train)\n",
    "ypred_ridge=pipe_ridge.predict(x_test)\n",
    "eval_model(y_test,ypred_ridge)"
   ]
  },
  {
   "cell_type": "markdown",
   "id": "5f980a48",
   "metadata": {},
   "source": [
    "## 3)Lasso Regression"
   ]
  },
  {
   "cell_type": "code",
   "execution_count": 37,
   "id": "2a1d33ab",
   "metadata": {},
   "outputs": [
    {
     "name": "stdout",
     "output_type": "stream",
     "text": [
      "MAE 105090.87017546647\n",
      "MSE 18640294483.4717\n",
      "RMSE 136529.46379251513\n",
      "R2_SCORE 0.6661683993572691\n"
     ]
    }
   ],
   "source": [
    "s1=ColumnTransformer(transformers=[('encoder',OneHotEncoder(drop='first',sparse=False,handle_unknown='ignore'),[0,3,4,5,6])],\n",
    "                    remainder='passthrough')\n",
    "\n",
    "s2=Lasso(alpha=7)\n",
    "\n",
    "pipe_lasso=Pipeline([('s1',s1),('s2',s2)])\n",
    "\n",
    "pipe_lasso.fit(x_train,y_train)\n",
    "ypred_lasso=pipe_lasso.predict(x_test)\n",
    "eval_model(y_test,ypred_lasso)"
   ]
  },
  {
   "cell_type": "markdown",
   "id": "762ca682",
   "metadata": {},
   "source": [
    "## 4) KNN Regression\n"
   ]
  },
  {
   "cell_type": "code",
   "execution_count": 38,
   "id": "4c759895",
   "metadata": {},
   "outputs": [
    {
     "name": "stdout",
     "output_type": "stream",
     "text": [
      "MAE 137622.0268179474\n",
      "MSE 33325722131.001106\n",
      "RMSE 182553.340509017\n",
      "R2_SCORE 0.40316505345816045\n"
     ]
    }
   ],
   "source": [
    "s1=ColumnTransformer(transformers=[('encoder',OneHotEncoder(drop='first',sparse=False,handle_unknown='ignore'),[0,3,4,5,6])],\n",
    "                    remainder='passthrough')\n",
    "\n",
    "s2=KNeighborsRegressor(n_neighbors=7)\n",
    "\n",
    "pipe_knn=Pipeline([('s1',s1),('s2',s2)])\n",
    "\n",
    "pipe_knn.fit(x_train,y_train)\n",
    "ypred_knn=pipe_knn.predict(x_test)\n",
    "eval_model(y_test,ypred_knn)"
   ]
  },
  {
   "cell_type": "markdown",
   "id": "9e9e9bc0",
   "metadata": {},
   "source": [
    "## 5) DT Regression\n"
   ]
  },
  {
   "cell_type": "code",
   "execution_count": 39,
   "id": "b1ab4515",
   "metadata": {},
   "outputs": [
    {
     "name": "stdout",
     "output_type": "stream",
     "text": [
      "MAE 102446.20910630451\n",
      "MSE 19331824037.98268\n",
      "RMSE 139038.92993684424\n",
      "R2_SCORE 0.653783701343037\n"
     ]
    }
   ],
   "source": [
    "s1=ColumnTransformer(transformers=[('encoder',OneHotEncoder(drop='first',sparse=False,handle_unknown='ignore'),[0,3,4,5,6])],\n",
    "                    remainder='passthrough')\n",
    "\n",
    "s2=DecisionTreeRegressor(criterion='squared_error',max_depth=10,min_samples_split=15)\n",
    "\n",
    "pipe_dtr=Pipeline([('s1',s1),('s2',s2)])\n",
    "\n",
    "pipe_dtr.fit(x_train,y_train)\n",
    "ypred_dtr=pipe_dtr.predict(x_test)\n",
    "eval_model(y_test,ypred_dtr)\n"
   ]
  },
  {
   "cell_type": "markdown",
   "id": "0bce57cd",
   "metadata": {},
   "source": [
    "## 6) RF Regression"
   ]
  },
  {
   "cell_type": "code",
   "execution_count": 40,
   "id": "87bc1ff4",
   "metadata": {},
   "outputs": [
    {
     "name": "stdout",
     "output_type": "stream",
     "text": [
      "MAE 95450.89004222024\n",
      "MSE 16815953282.64613\n",
      "RMSE 129676.34048910438\n",
      "R2_SCORE 0.6988407771316707\n"
     ]
    }
   ],
   "source": [
    "s1=ColumnTransformer(transformers=[('encoder',OneHotEncoder(drop='first',sparse=False,handle_unknown='ignore'),[0,3,4,5,6])],\n",
    "                    remainder='passthrough')\n",
    "\n",
    "s2=RandomForestRegressor(n_estimators=100,criterion='squared_error',max_depth=10,min_samples_split=15,random_state=5)\n",
    "\n",
    "pipe_rfr=Pipeline([('s1',s1),('s2',s2)])\n",
    "\n",
    "pipe_rfr.fit(x_train,y_train)\n",
    "ypred_rfr=pipe_rfr.predict(x_test)\n",
    "eval_model(y_test,ypred_rfr)"
   ]
  },
  {
   "cell_type": "markdown",
   "id": "f824975f",
   "metadata": {},
   "source": [
    "### Inference\n",
    " RF Reg is the best model in terms of R2_Score and RMSE."
   ]
  },
  {
   "cell_type": "code",
   "execution_count": null,
   "id": "2f3bbb92",
   "metadata": {},
   "outputs": [],
   "source": []
  },
  {
   "cell_type": "code",
   "execution_count": 41,
   "id": "0b75395c",
   "metadata": {},
   "outputs": [],
   "source": [
    "import pickle"
   ]
  },
  {
   "cell_type": "code",
   "execution_count": 42,
   "id": "4696de04",
   "metadata": {},
   "outputs": [],
   "source": [
    "pickle.dump(pipe_rfr,open('rf.pkl','wb'))  # wb= write binary\n",
    "pickle.dump(car_df,open('car_df.pkl','wb'))  # wb= write binary"
   ]
  },
  {
   "cell_type": "code",
   "execution_count": null,
   "id": "418fd0ce",
   "metadata": {},
   "outputs": [],
   "source": []
  }
 ],
 "metadata": {
  "kernelspec": {
   "display_name": "Python 3 (ipykernel)",
   "language": "python",
   "name": "python3"
  },
  "language_info": {
   "codemirror_mode": {
    "name": "ipython",
    "version": 3
   },
   "file_extension": ".py",
   "mimetype": "text/x-python",
   "name": "python",
   "nbconvert_exporter": "python",
   "pygments_lexer": "ipython3",
   "version": "3.9.12"
  }
 },
 "nbformat": 4,
 "nbformat_minor": 5
}
